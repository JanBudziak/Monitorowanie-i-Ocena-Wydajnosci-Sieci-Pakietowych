{
 "cells": [
  {
   "cell_type": "code",
   "execution_count": 1,
   "metadata": {},
   "outputs": [
    {
     "name": "stdout",
     "output_type": "stream",
     "text": [
      "[1, 0.4, 1.08, 0.411] [0.346, 0.138, 0.374, 0.142] 0.142 0.516\n",
      " \n",
      "[1, 0.8, 1.12, 0.725] [0.274, 0.219, 0.307, 0.199] 0.199 0.506\n",
      " \n",
      "[1, 1.2, 1.32, 1.008] [0.221, 0.265, 0.292, 0.223] 0.223 0.515\n",
      " \n",
      "[1, 1.6, 1.68, 1.323] [0.178, 0.285, 0.299, 0.235] 0.235 0.534\n",
      " \n",
      "[1, 2.0, 2.2, 1.733] [0.144, 0.288, 0.317, 0.25] 0.25 0.567\n",
      " \n",
      "[1, 0.4, 1.08, 0.411] [0.346, 0.138, 0.374, 0.142] 0.142 0.516\n",
      "[1, 0.8, 1.12, 0.725] [0.274, 0.219, 0.307, 0.199] 0.199 0.506\n",
      "[1, 1.2, 1.32, 1.008] [0.221, 0.265, 0.292, 0.223] 0.223 0.515\n",
      "[1, 1.6, 1.68, 1.323] [0.178, 0.285, 0.299, 0.235] 0.235 0.534\n",
      "[1, 2.0, 2.2, 1.733] [0.144, 0.288, 0.317, 0.25] 0.25 0.567\n"
     ]
    }
   ],
   "source": [
    "V = 3\n",
    "M = 2\n",
    "a = [0.4, 1] #a1 oraz a2\n",
    "t = [1, 2] # t1 oraz t2\n",
    "\n",
    "def calc_x(V, M, a, t):\n",
    "    x = [1]*(V+1)\n",
    "    for n in range (1, V+1):\n",
    "        sum = 0\n",
    "        for i  in range (0,M):\n",
    "            if n >= t[i]:\n",
    "                sum += a[i]*t[i]*x[n-t[i]]\n",
    "        x[n] = round(sum/n,3)\n",
    "    return x\n",
    "\n",
    "\n",
    "def calc_p0 (x):\n",
    "    sum = 0\n",
    "    for  item in x:\n",
    "        sum += item\n",
    "\n",
    "    return round(1/sum,3)\n",
    "\n",
    "\n",
    "\n",
    "def calc_pn(x, V, M, a, t):\n",
    "    P = [1] * (V+1)\n",
    "    P[0] = calc_p0(x)\n",
    "    for n in range (1, V+1):\n",
    "        sum = 0\n",
    "        for i  in range (0,M):\n",
    "            if n >= t[i]:\n",
    "                sum += a[i]*t[i]*P[n-t[i]]\n",
    "        P[n] = round(sum/n,3)\n",
    "    return P\n",
    "\n",
    "\n",
    "def calc_b(P, V, t, i=1):\n",
    "    sum = 0 \n",
    "    for n in range (V-t[i-1]+1, V+1):\n",
    "        sum += P[n]\n",
    "    return round(sum,3)\n",
    "\n",
    "\n",
    "def calc_all(V, M, a, t):\n",
    "    x = calc_x(V, M, a, t)\n",
    "    P = calc_pn(x, V, M, a, t)\n",
    "    B1 = calc_b(P,V,t,1)\n",
    "    B2 = calc_b(P,V,t,2)\n",
    "    data = [x,P,B1,B2]\n",
    "    print(x, P, B1, B2 )\n",
    "    return  data\n",
    "\n",
    "\n",
    "a = [[0.4,1],[0.8,0.8],[1.2,0.6],[1.6,0.4],[2.0,0.2]]    \n",
    "\n",
    "for i in a:\n",
    "    calc_all(V,M,i,t)\n",
    "    print(' ')\n",
    "\n",
    "\n",
    "\n",
    "import csv\n",
    "\n",
    "with open ('dane.csv', 'w') as file:\n",
    "    writer = csv.writer(file)\n",
    "    for i in a:\n",
    "        writer.writerow(calc_all(V,M,i,t))\n",
    "\n"
   ]
  }
 ],
 "metadata": {
  "kernelspec": {
   "display_name": "Python 3.10.1 64-bit",
   "language": "python",
   "name": "python3"
  },
  "language_info": {
   "codemirror_mode": {
    "name": "ipython",
    "version": 3
   },
   "file_extension": ".py",
   "mimetype": "text/x-python",
   "name": "python",
   "nbconvert_exporter": "python",
   "pygments_lexer": "ipython3",
   "version": "3.10.1"
  },
  "orig_nbformat": 4,
  "vscode": {
   "interpreter": {
    "hash": "5b30962ce83bb05fb0ec0aab48bd39de7743a2319bce4ef28962f4bf833f6c6c"
   }
  }
 },
 "nbformat": 4,
 "nbformat_minor": 2
}
